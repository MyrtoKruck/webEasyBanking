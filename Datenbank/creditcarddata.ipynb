{
 "cells": [
  {
   "cell_type": "code",
   "execution_count": 1,
   "metadata": {},
   "outputs": [
    {
     "name": "stdout",
     "output_type": "stream",
     "text": [
      "Hello World!\n"
     ]
    }
   ],
   "source": [
    "print('Hello World!')"
   ]
  },
  {
   "cell_type": "code",
   "execution_count": 5,
   "metadata": {},
   "outputs": [],
   "source": [
    "import time"
   ]
  },
  {
   "cell_type": "code",
   "execution_count": 6,
   "metadata": {},
   "outputs": [],
   "source": [
    "time.sleep(3)"
   ]
  },
  {
   "cell_type": "code",
   "execution_count": 7,
   "metadata": {},
   "outputs": [],
   "source": [
    "import numpy as np\n",
    "def square(x):\n",
    "    return x * x"
   ]
  },
  {
   "cell_type": "code",
   "execution_count": 8,
   "metadata": {},
   "outputs": [
    {
     "name": "stdout",
     "output_type": "stream",
     "text": [
      "9 squared is 81\n"
     ]
    }
   ],
   "source": [
    "x = np.random.randint(1, 10)\n",
    "y = square(x)\n",
    "print('%d squared is %d' % (x, y))"
   ]
  },
  {
   "cell_type": "code",
   "execution_count": 1,
   "metadata": {},
   "outputs": [],
   "source": [
    "import numpy as np"
   ]
  },
  {
   "cell_type": "code",
   "execution_count": 2,
   "metadata": {},
   "outputs": [],
   "source": [
    "import pandas as pd"
   ]
  },
  {
   "cell_type": "code",
   "execution_count": 3,
   "metadata": {},
   "outputs": [],
   "source": [
    "import matplotlib.pyplot as plt"
   ]
  },
  {
   "cell_type": "code",
   "execution_count": 4,
   "metadata": {},
   "outputs": [],
   "source": [
    "import seaborn as sns"
   ]
  },
  {
   "cell_type": "code",
   "execution_count": 5,
   "metadata": {},
   "outputs": [],
   "source": [
    "sns.set(style=\"darkgrid\")"
   ]
  },
  {
   "cell_type": "code",
   "execution_count": 69,
   "metadata": {},
   "outputs": [],
   "source": [
    "df = pd.read_csv('/Users/rebeccazurek/test2.csv')"
   ]
  },
  {
   "cell_type": "code",
   "execution_count": 70,
   "metadata": {},
   "outputs": [
    {
     "name": "stdout",
     "output_type": "stream",
     "text": [
      "   web-scraper-order                              web-scraper-start-url  \\\n",
      "0      1565894566-16  https://finanzen.check24.de/accounts/d/kreditk...   \n",
      "1      1565894555-12  https://finanzen.check24.de/accounts/d/kreditk...   \n",
      "2      1565894564-15  https://finanzen.check24.de/accounts/d/kreditk...   \n",
      "3      1565894547-10  https://finanzen.check24.de/accounts/d/kreditk...   \n",
      "4      1565894559-13  https://finanzen.check24.de/accounts/d/kreditk...   \n",
      "5       1565894540-8  https://finanzen.check24.de/accounts/d/kreditk...   \n",
      "6       1565894521-1  https://finanzen.check24.de/accounts/d/kreditk...   \n",
      "7       1565894537-7  https://finanzen.check24.de/accounts/d/kreditk...   \n",
      "8       1565894526-3  https://finanzen.check24.de/accounts/d/kreditk...   \n",
      "9      1565894568-17  https://finanzen.check24.de/accounts/d/kreditk...   \n",
      "10     1565894552-11  https://finanzen.check24.de/accounts/d/kreditk...   \n",
      "11      1565894532-5  https://finanzen.check24.de/accounts/d/kreditk...   \n",
      "12     1565894573-19  https://finanzen.check24.de/accounts/d/kreditk...   \n",
      "13     1565894561-14  https://finanzen.check24.de/accounts/d/kreditk...   \n",
      "14      1565894543-9  https://finanzen.check24.de/accounts/d/kreditk...   \n",
      "15      1565894523-2  https://finanzen.check24.de/accounts/d/kreditk...   \n",
      "16      1565894535-6  https://finanzen.check24.de/accounts/d/kreditk...   \n",
      "17     1565894571-18  https://finanzen.check24.de/accounts/d/kreditk...   \n",
      "18      1565894529-4  https://finanzen.check24.de/accounts/d/kreditk...   \n",
      "\n",
      "   Subcategory                                   Subcategory-href  \\\n",
      "0       weiter  https://finanzen.check24.de/kreditkarte/applic...   \n",
      "1       weiter  https://finanzen.check24.de/kreditkarte/applic...   \n",
      "2       weiter  https://finanzen.check24.de/kreditkarte/applic...   \n",
      "3       weiter  https://finanzen.check24.de/kreditkarte/applic...   \n",
      "4       weiter  https://finanzen.check24.de/kreditkarte/applic...   \n",
      "5       weiter  https://finanzen.check24.de/kreditkarte/applic...   \n",
      "6       weiter  https://finanzen.check24.de/kreditkarte/applic...   \n",
      "7       weiter  https://finanzen.check24.de/kreditkarte/applic...   \n",
      "8       weiter  https://finanzen.check24.de/kreditkarte/applic...   \n",
      "9       weiter  https://finanzen.check24.de/kreditkarte/applic...   \n",
      "10      weiter  https://finanzen.check24.de/kreditkarte/applic...   \n",
      "11      weiter  https://finanzen.check24.de/kreditkarte/applic...   \n",
      "12      weiter  https://finanzen.check24.de/kreditkarte/applic...   \n",
      "13      weiter  https://finanzen.check24.de/kreditkarte/applic...   \n",
      "14      weiter  https://finanzen.check24.de/kreditkarte/applic...   \n",
      "15      weiter  https://finanzen.check24.de/kreditkarte/applic...   \n",
      "16      weiter  https://finanzen.check24.de/kreditkarte/applic...   \n",
      "17      weiter  https://finanzen.check24.de/kreditkarte/applic...   \n",
      "18      weiter  https://finanzen.check24.de/kreditkarte/applic...   \n",
      "\n",
      "                           name         zins geldabheben   bezahlen  \\\n",
      "0           ICS Visa World Card       15.90%   Euro-Zone  Euro-Zone   \n",
      "1          comdirect Visa-Karte        6.50%    Weltweit  Euro-Zone   \n",
      "2     Hanseatic Bank GenialCard       13.60%   Euro-Zone         30   \n",
      "3                      DKB Cash        7.50%   Euro-Zone  Euro-Zone   \n",
      "4   Eurowings Kreditkarten Gold       18.38%    Weltweit   Weltweit   \n",
      "5            TF Mastercard GOLD       22.80%   Euro-Zone        NaN   \n",
      "6            InsideCard Prepaid        0.00%   Euro-Zone        NaN   \n",
      "7       Hanseatic Bank GoldCard       18.79%    Weltweit  Euro-Zone   \n",
      "8          Norisbank Mastercard       10.85%    Weltweit  Euro-Zone   \n",
      "9      Advanzia Mastercard GOLD       19.44%    Weltweit         50   \n",
      "10  Barclaycard Platinum Double       18.38%    Weltweit   Weltweit   \n",
      "11         Santander TravelCard       11.46%   Euro-Zone        NaN   \n",
      "12             Barclaycard Visa  9.37-18.38%    Weltweit   Weltweit   \n",
      "13    Consors Finanz Mastercard       15.90%    Weltweit        NaN   \n",
      "14                ING VISA Card        6.99%   Euro-Zone  Euro-Zone   \n",
      "15    VIABUY Prepaid Mastercard        0.00%   Euro-Zone        NaN   \n",
      "16        Barclaycard Gold Visa       18.38%   Euro-Zone  Euro-Zone   \n",
      "17    Santander 1plus Visa Card       13.98%    Weltweit   Weltweit   \n",
      "18      1822direkt Visa Classic        7.43%   Euro-Zone  Euro-Zone   \n",
      "\n",
      "    Gebuehren1Jahr  gebuehren2Jahr  \n",
      "0              0.0             0.0  \n",
      "1              0.0             0.0  \n",
      "2              0.0             0.0  \n",
      "3              0.0             0.0  \n",
      "4              0.0            69.0  \n",
      "5              0.0             0.0  \n",
      "6             25.0            25.0  \n",
      "7              0.0            35.0  \n",
      "8              0.0             0.0  \n",
      "9              0.0             0.0  \n",
      "10             0.0            99.0  \n",
      "11             0.0            48.0  \n",
      "12             0.0             0.0  \n",
      "13             0.0             0.0  \n",
      "14             0.0             0.0  \n",
      "15            89.8            19.9  \n",
      "16             0.0            59.0  \n",
      "17             0.0             0.0  \n",
      "18             0.0            29.9  \n"
     ]
    }
   ],
   "source": [
    "print(df)"
   ]
  },
  {
   "cell_type": "code",
   "execution_count": 71,
   "metadata": {},
   "outputs": [],
   "source": [
    "df_clean = df.drop(df.columns[[0, 1, 2, 3]], axis=1)"
   ]
  },
  {
   "cell_type": "code",
   "execution_count": 73,
   "metadata": {},
   "outputs": [
    {
     "name": "stdout",
     "output_type": "stream",
     "text": [
      "                           name         zins geldabheben   bezahlen  \\\n",
      "0           ICS Visa World Card       15.90%   Euro-Zone  Euro-Zone   \n",
      "1          comdirect Visa-Karte        6.50%    Weltweit  Euro-Zone   \n",
      "2     Hanseatic Bank GenialCard       13.60%   Euro-Zone         30   \n",
      "3                      DKB Cash        7.50%   Euro-Zone  Euro-Zone   \n",
      "4   Eurowings Kreditkarten Gold       18.38%    Weltweit   Weltweit   \n",
      "5            TF Mastercard GOLD       22.80%   Euro-Zone        NaN   \n",
      "6            InsideCard Prepaid        0.00%   Euro-Zone        NaN   \n",
      "7       Hanseatic Bank GoldCard       18.79%    Weltweit  Euro-Zone   \n",
      "8          Norisbank Mastercard       10.85%    Weltweit  Euro-Zone   \n",
      "9      Advanzia Mastercard GOLD       19.44%    Weltweit         50   \n",
      "10  Barclaycard Platinum Double       18.38%    Weltweit   Weltweit   \n",
      "11         Santander TravelCard       11.46%   Euro-Zone        NaN   \n",
      "12             Barclaycard Visa  9.37-18.38%    Weltweit   Weltweit   \n",
      "13    Consors Finanz Mastercard       15.90%    Weltweit        NaN   \n",
      "14                ING VISA Card        6.99%   Euro-Zone  Euro-Zone   \n",
      "15    VIABUY Prepaid Mastercard        0.00%   Euro-Zone        NaN   \n",
      "16        Barclaycard Gold Visa       18.38%   Euro-Zone  Euro-Zone   \n",
      "17    Santander 1plus Visa Card       13.98%    Weltweit   Weltweit   \n",
      "18      1822direkt Visa Classic        7.43%   Euro-Zone  Euro-Zone   \n",
      "\n",
      "    Gebuehren1Jahr  gebuehren2Jahr  \n",
      "0              0.0             0.0  \n",
      "1              0.0             0.0  \n",
      "2              0.0             0.0  \n",
      "3              0.0             0.0  \n",
      "4              0.0            69.0  \n",
      "5              0.0             0.0  \n",
      "6             25.0            25.0  \n",
      "7              0.0            35.0  \n",
      "8              0.0             0.0  \n",
      "9              0.0             0.0  \n",
      "10             0.0            99.0  \n",
      "11             0.0            48.0  \n",
      "12             0.0             0.0  \n",
      "13             0.0             0.0  \n",
      "14             0.0             0.0  \n",
      "15            89.8            19.9  \n",
      "16             0.0            59.0  \n",
      "17             0.0             0.0  \n",
      "18             0.0            29.9  \n"
     ]
    }
   ],
   "source": [
    "print(df_clean)"
   ]
  },
  {
   "cell_type": "code",
   "execution_count": 76,
   "metadata": {},
   "outputs": [],
   "source": [
    "df_clean['bezahlen'] = df['bezahlen'].replace(np.nan, \"kostenpflichtig\")"
   ]
  },
  {
   "cell_type": "code",
   "execution_count": 77,
   "metadata": {},
   "outputs": [
    {
     "name": "stdout",
     "output_type": "stream",
     "text": [
      "                           name         zins geldabheben         bezahlen  \\\n",
      "0           ICS Visa World Card       15.90%   Euro-Zone        Euro-Zone   \n",
      "1          comdirect Visa-Karte        6.50%    Weltweit        Euro-Zone   \n",
      "2     Hanseatic Bank GenialCard       13.60%   Euro-Zone               30   \n",
      "3                      DKB Cash        7.50%   Euro-Zone        Euro-Zone   \n",
      "4   Eurowings Kreditkarten Gold       18.38%    Weltweit         Weltweit   \n",
      "5            TF Mastercard GOLD       22.80%   Euro-Zone  kostenpflichtig   \n",
      "6            InsideCard Prepaid        0.00%   Euro-Zone  kostenpflichtig   \n",
      "7       Hanseatic Bank GoldCard       18.79%    Weltweit        Euro-Zone   \n",
      "8          Norisbank Mastercard       10.85%    Weltweit        Euro-Zone   \n",
      "9      Advanzia Mastercard GOLD       19.44%    Weltweit               50   \n",
      "10  Barclaycard Platinum Double       18.38%    Weltweit         Weltweit   \n",
      "11         Santander TravelCard       11.46%   Euro-Zone  kostenpflichtig   \n",
      "12             Barclaycard Visa  9.37-18.38%    Weltweit         Weltweit   \n",
      "13    Consors Finanz Mastercard       15.90%    Weltweit  kostenpflichtig   \n",
      "14                ING VISA Card        6.99%   Euro-Zone        Euro-Zone   \n",
      "15    VIABUY Prepaid Mastercard        0.00%   Euro-Zone  kostenpflichtig   \n",
      "16        Barclaycard Gold Visa       18.38%   Euro-Zone        Euro-Zone   \n",
      "17    Santander 1plus Visa Card       13.98%    Weltweit         Weltweit   \n",
      "18      1822direkt Visa Classic        7.43%   Euro-Zone        Euro-Zone   \n",
      "\n",
      "    Gebuehren1Jahr  gebuehren2Jahr  \n",
      "0              0.0             0.0  \n",
      "1              0.0             0.0  \n",
      "2              0.0             0.0  \n",
      "3              0.0             0.0  \n",
      "4              0.0            69.0  \n",
      "5              0.0             0.0  \n",
      "6             25.0            25.0  \n",
      "7              0.0            35.0  \n",
      "8              0.0             0.0  \n",
      "9              0.0             0.0  \n",
      "10             0.0            99.0  \n",
      "11             0.0            48.0  \n",
      "12             0.0             0.0  \n",
      "13             0.0             0.0  \n",
      "14             0.0             0.0  \n",
      "15            89.8            19.9  \n",
      "16             0.0            59.0  \n",
      "17             0.0             0.0  \n",
      "18             0.0            29.9  \n"
     ]
    }
   ],
   "source": [
    "print(df_clean)"
   ]
  },
  {
   "cell_type": "code",
   "execution_count": null,
   "metadata": {},
   "outputs": [],
   "source": []
  }
 ],
 "metadata": {
  "kernelspec": {
   "display_name": "Python 3",
   "language": "python",
   "name": "python3"
  },
  "language_info": {
   "codemirror_mode": {
    "name": "ipython",
    "version": 3
   },
   "file_extension": ".py",
   "mimetype": "text/x-python",
   "name": "python",
   "nbconvert_exporter": "python",
   "pygments_lexer": "ipython3",
   "version": "3.7.3"
  }
 },
 "nbformat": 4,
 "nbformat_minor": 2
}
